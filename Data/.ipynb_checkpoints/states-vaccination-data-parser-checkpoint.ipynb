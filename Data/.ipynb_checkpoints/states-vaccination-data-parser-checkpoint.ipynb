{
 "cells": [
  {
   "cell_type": "code",
   "execution_count": 12,
   "metadata": {},
   "outputs": [],
   "source": [
    "from datetime import *\n",
    "import pandas as pd\n",
    "import warnings\n",
    "\n",
    "warnings.filterwarnings('ignore')\n"
   ]
  },
  {
   "cell_type": "code",
   "execution_count": 50,
   "metadata": {},
   "outputs": [],
   "source": [
    "data = pd.read_csv(\".\\\\Raw Data\\\\Vaccination Numbers\\\\us_state_vaccinations.csv\")"
   ]
  },
  {
   "cell_type": "code",
   "execution_count": 51,
   "metadata": {},
   "outputs": [],
   "source": [
    "not_included=['Bureau of Prisons', 'Dept of Defense', 'Federated States of Micronesia', 'Indian Health Svc', 'Republic of Palau', 'United States', 'Long Term Care','Veterans Health', 'Marshall Islands']"
   ]
  },
  {
   "cell_type": "code",
   "execution_count": 52,
   "metadata": {},
   "outputs": [],
   "source": [
    "data = data[~data['location'].isin(not_included)]"
   ]
  },
  {
   "cell_type": "code",
   "execution_count": 61,
   "metadata": {},
   "outputs": [],
   "source": [
    "data['location'] = data['location'].str.replace('District of Columbia', 'Washington DC')"
   ]
  },
  {
   "cell_type": "code",
   "execution_count": 64,
   "metadata": {},
   "outputs": [],
   "source": [
    "data['location'] = data['location'].str.replace('New York State', 'New York')"
   ]
  },
  {
   "cell_type": "code",
   "execution_count": 65,
   "metadata": {},
   "outputs": [],
   "source": [
    "states = data.location.unique()"
   ]
  },
  {
   "cell_type": "code",
   "execution_count": 66,
   "metadata": {},
   "outputs": [
    {
     "data": {
      "text/plain": [
       "array(['Alabama', 'Alaska', 'American Samoa', 'Arizona', 'Arkansas',\n",
       "       'California', 'Colorado', 'Connecticut', 'Delaware',\n",
       "       'Washington DC', 'Florida', 'Georgia', 'Guam', 'Hawaii', 'Idaho',\n",
       "       'Illinois', 'Indiana', 'Iowa', 'Kansas', 'Kentucky', 'Louisiana',\n",
       "       'Maine', 'Maryland', 'Massachusetts', 'Michigan', 'Minnesota',\n",
       "       'Mississippi', 'Missouri', 'Montana', 'Nebraska', 'Nevada',\n",
       "       'New Hampshire', 'New Jersey', 'New Mexico', 'New York',\n",
       "       'North Carolina', 'North Dakota', 'Northern Mariana Islands',\n",
       "       'Ohio', 'Oklahoma', 'Oregon', 'Pennsylvania', 'Puerto Rico',\n",
       "       'Rhode Island', 'South Carolina', 'South Dakota', 'Tennessee',\n",
       "       'Texas', 'Utah', 'Vermont', 'Virgin Islands', 'Virginia',\n",
       "       'Washington', 'West Virginia', 'Wisconsin', 'Wyoming'],\n",
       "      dtype=object)"
      ]
     },
     "execution_count": 66,
     "metadata": {},
     "output_type": "execute_result"
    }
   ],
   "source": [
    "states"
   ]
  },
  {
   "cell_type": "code",
   "execution_count": 79,
   "metadata": {},
   "outputs": [
    {
     "name": "stdout",
     "output_type": "stream",
     "text": [
      "Alabama completed\n",
      "Alaska completed\n",
      "American Samoa completed\n",
      "Arizona completed\n",
      "Arkansas completed\n",
      "California completed\n",
      "Colorado completed\n",
      "Connecticut completed\n",
      "Delaware completed\n",
      "Florida completed\n",
      "Georgia completed\n",
      "Guam completed\n",
      "Hawaii completed\n",
      "Idaho completed\n",
      "Illinois completed\n",
      "Indiana completed\n",
      "Iowa completed\n",
      "Kansas completed\n",
      "Kentucky completed\n",
      "Louisiana completed\n",
      "Maine completed\n",
      "Maryland completed\n",
      "Massachusetts completed\n",
      "Michigan completed\n",
      "Minnesota completed\n",
      "Mississippi completed\n",
      "Missouri completed\n",
      "Montana completed\n",
      "Nebraska completed\n",
      "Nevada completed\n",
      "New Hampshire completed\n",
      "New Jersey completed\n",
      "New Mexico completed\n",
      "New York completed\n",
      "North Carolina completed\n",
      "North Dakota completed\n",
      "Northern Mariana Islands completed\n",
      "Ohio completed\n",
      "Oklahoma completed\n",
      "Oregon completed\n",
      "Pennsylvania completed\n",
      "Puerto Rico completed\n",
      "Rhode Island completed\n",
      "South Carolina completed\n",
      "South Dakota completed\n",
      "Tennessee completed\n",
      "Texas completed\n",
      "Utah completed\n",
      "Vermont completed\n",
      "Virgin Islands completed\n",
      "Virginia completed\n",
      "Washington completed\n",
      "Washington DC completed\n",
      "West Virginia completed\n",
      "Wisconsin completed\n",
      "Wyoming completed\n"
     ]
    }
   ],
   "source": [
    "gb = data.groupby(['location'])\n",
    "for k,g in gb:\n",
    "    g = g[['date', 'people_fully_vaccinated_per_hundred', 'daily_vaccinations_per_million']]\n",
    "    g = g.fillna(0)\n",
    "    temp = pd.read_csv('.\\\\Parsed Data\\\\' + k + '.csv')\n",
    "    temp_1 = pd.merge(temp, g, on='date', how='outer')\n",
    "    temp_1.to_csv('.\\\\Parsed Data\\\\' + k + '.csv', index=False)\n",
    "    print(k + ' completed')"
   ]
  },
  {
   "cell_type": "code",
   "execution_count": null,
   "metadata": {},
   "outputs": [],
   "source": []
  },
  {
   "cell_type": "code",
   "execution_count": null,
   "metadata": {},
   "outputs": [],
   "source": []
  }
 ],
 "metadata": {
  "kernelspec": {
   "display_name": "Python 3",
   "language": "python",
   "name": "python3"
  },
  "language_info": {
   "codemirror_mode": {
    "name": "ipython",
    "version": 3
   },
   "file_extension": ".py",
   "mimetype": "text/x-python",
   "name": "python",
   "nbconvert_exporter": "python",
   "pygments_lexer": "ipython3",
   "version": "3.8.5"
  }
 },
 "nbformat": 4,
 "nbformat_minor": 4
}
